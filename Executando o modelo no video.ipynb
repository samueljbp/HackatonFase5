{
  "cells": [
    {
      "cell_type": "markdown",
      "metadata": {
        "colab_type": "text",
        "id": "view-in-github"
      },
      "source": [
        "<a href=\"https://colab.research.google.com/github/samueljbp/HackatonFase5/blob/main/Executando%20o%20modelo%20no%20video.ipynb\" target=\"_parent\"><img src=\"https://colab.research.google.com/assets/colab-badge.svg\" alt=\"Open In Colab\"/></a>"
      ]
    },
    {
      "cell_type": "markdown",
      "metadata": {
        "id": "qCQnHNtew2pN"
      },
      "source": [
        "# Detection"
      ]
    },
    {
      "cell_type": "code",
      "execution_count": null,
      "metadata": {
        "id": "2-xIOMXfpmIG"
      },
      "outputs": [],
      "source": [
        "import logging\n",
        "# Configuração do Logger\n",
        "# logging.basicConfig(filename='app.log', level=logging.INFO, format='%(asctime)s - %(levelname)s - %(message)s')\n",
        "logger = logging.getLogger()\n",
        "logger.setLevel(logging.DEBUG)\n",
        "\n",
        "logging.info(f\"SYSTEM:: ===== Iniciando programa =====\")"
      ]
    },
    {
      "cell_type": "code",
      "execution_count": null,
      "metadata": {
        "id": "lr2_kQ3alWqm"
      },
      "outputs": [],
      "source": [
        "# Mensagem final\n",
        "# print(f\"Processamento do vídeo concluído!\")\n",
        "logging.info(f\"DETECTION:: Fim do processo de detecção\")\n",
        "# print(f\"Total de detecções: {total_detections}\")\n",
        "logging.info(f\"DETECTION:: Total de detecções: {total_detections}\")\n",
        "# print(f\"Frames salvos em: {output_frames_dir}\")"
      ]
    },
    {
      "cell_type": "markdown",
      "metadata": {
        "id": "3_TvcTDdwy1q"
      },
      "source": [
        "# Mail"
      ]
    },
    {
      "cell_type": "code",
      "execution_count": null,
      "metadata": {
        "id": "oAo8i2k4lWqn"
      },
      "outputs": [],
      "source": [
        "# Definindo variáveis principais\n",
        "# IMAGENS = [\"imagem1\", \"imagem2\"]\n",
        "IMAGENS_DIR = output_frames_dir\n",
        "IMAGENS = [f\"imagem_{i+1}\" for i in range(saved_frame_idx)]\n",
        "\n",
        "QTD = len(IMAGENS)\n",
        "VIDEO = os.path.basename(video_path)\n",
        "DESTINATARIOS = [\"email1@gmail.com\", \"email2@gmail.com\"]\n",
        "REMETENTE = \"fakevisionguard@gmail.com\""
      ]
    },
    {
      "cell_type": "code",
      "execution_count": null,
      "metadata": {
        "id": "ZwctJV6QlWqn"
      },
      "outputs": [],
      "source": [
        "import smtplib\n",
        "import ssl\n",
        "from email.mime.text import MIMEText\n",
        "from email.mime.image import MIMEImage\n",
        "from email.mime.multipart import MIMEMultipart\n",
        "from email.utils import parseaddr\n",
        "from sys import exit"
      ]
    },
    {
      "cell_type": "code",
      "execution_count": null,
      "metadata": {
        "id": "VfXj7qxblWqn"
      },
      "outputs": [],
      "source": [
        "# Função para validar email\n",
        "def validar_email(email):\n",
        "    nome, endereco = parseaddr(email)\n",
        "    if '@' in endereco and '.' in endereco.split('@')[-1]:\n",
        "        return True\n",
        "    return False\n",
        "\n",
        "# Função para carregar a senha do arquivo 'secret.txt'\n",
        "def carregar_senha():\n",
        "    # try:\n",
        "    #     with open(\"secret.txt\", \"r\") as file:\n",
        "    #         password = file.read().strip()\n",
        "    #         if not password:\n",
        "    #             logging.critical(\"MAIL:: Senha não encontrada\")\n",
        "    #             exit(1)\n",
        "    #         return password\n",
        "    # except FileNotFoundError:\n",
        "    #     logging.critical(\"MAIL:: O arquivo 'secret.txt' não foi encontrado.\")\n",
        "    #     exit(1)\n",
        "    return \"wixb qyrv qvkc qqwh\"\n",
        "\n",
        "# Função para enviar e-mail\n",
        "def enviar_email(sender_email, receiver_email, qtd, video, password):\n",
        "    # Criando parametros da mensagem\n",
        "    # message = MIMEMultipart(\"alternative\") # Para enviar apenas texto\n",
        "    message = MIMEMultipart(\"related\") # Para enviar imagens\n",
        "    message[\"Subject\"] = \"Alerta Segurança\"\n",
        "    message[\"From\"] = sender_email\n",
        "    message[\"To\"] = receiver_email\n",
        "\n",
        "    # Tratamento de exceção para qtd e video\n",
        "    if not qtd or not video:\n",
        "        logging.warning(\"MAIL:: Informações faltando. QTD ou VIDEO não foi fornecido.\")\n",
        "        qtd = \"desconhecido\"\n",
        "        video = \"desconhecido\"\n",
        "\n",
        "    # Criando corpo do email com Imagens\n",
        "    imagens_html = \"\"\n",
        "    for i in range(min(len(IMAGENS), 10)):\n",
        "        imagens_html += f'<img src=\"cid:{IMAGENS[i]}\" alt=\"Imagem de Alerta\" width=\"250\" height=\"250\">'\n",
        "\n",
        "\n",
        "    # Criando o corpo do email em HTML\n",
        "    html = f\"\"\"\n",
        "    <html>\n",
        "        <body style=\"font-family: Arial, sans-serif; background-color: #f4f4f4; color: #333; padding: 20px;\">\n",
        "            <table role=\"presentation\" style=\"width: 100%; border: 1px solid #ddd; background-color: #fff; padding: 15px;\">\n",
        "                <tr>\n",
        "                    <td>\n",
        "                        <h2 style=\"color: #d9534f;\">Alerta de Segurança</h2>\n",
        "                        <p>Foram detectados <strong>{qtd}</strong> objetos perigosos durante o escaneamento do vídeo <strong>{video}</strong>.</p>\n",
        "                        <p><a href=\"#\" style=\"color: #007bff; text-decoration: none;\">Acesse as imagens</a></p>\n",
        "                        {imagens_html}\n",
        "                        <br />\n",
        "                        <footer style=\"font-size: 0.9em; color: #777;\">\n",
        "                            <b>Vision Guard Seguradora LTDA.</b><br />\n",
        "                            Todos os direitos reservados.\n",
        "                        </footer>\n",
        "                    </td>\n",
        "                </tr>\n",
        "            </table>\n",
        "        </body>\n",
        "    </html>\n",
        "    \"\"\"\n",
        "\n",
        "    # Convertendo o HTML para objetos MIMEText e acoplando a mensagem\n",
        "    body = MIMEText(html, \"html\")\n",
        "    message.attach(body)\n",
        "    logging.info(\"MAIL:: Corpo do email criado com sucesso\")\n",
        "\n",
        "\n",
        "    for i, img_id in enumerate(IMAGENS[:10]):\n",
        "        img_path = os.path.join(output_frames_dir, f\"imagem_{i+1}.jpg\")\n",
        "        with open(img_path, \"rb\") as img_file:\n",
        "            img = MIMEImage(img_file.read())\n",
        "            img.add_header('Content-ID', f'<{img_id}>')\n",
        "            message.attach(img)\n",
        "            logging.info(f\"MAIL:: Imagem {img_id} adicionada ao e-mail\")\n",
        "\n",
        "\n",
        "\n",
        "    # Criando uma conexão com o servidor e enviando o email\n",
        "    try:\n",
        "        context = ssl.create_default_context()\n",
        "        with smtplib.SMTP_SSL(\"smtp.gmail.com\", 465, context=context) as server:\n",
        "            logging.info(\"MAIL:: Conectando ao servido SMTP\")\n",
        "            server.login(sender_email, password)\n",
        "            logging.info(\"MAIL:: Logado no servidor com sucesso\")\n",
        "            server.sendmail(sender_email, receiver_email, message.as_string())\n",
        "            logging.info(f\"MAIL:: Email enviado com sucesso para {receiver_email}\")\n",
        "    except smtplib.SMTPException as e:\n",
        "        logging.error(f\"MAIL:: Erro ao enviar o email: {str(e)}\")\n",
        "    except Exception as e:\n",
        "        logging.critical(f\"MAIL:: Erro inesperado: {str(e)}\")"
      ]
    },
    {
      "cell_type": "code",
      "execution_count": null,
      "metadata": {
        "id": "1KNXNTY8lWqo"
      },
      "outputs": [],
      "source": [
        "# Validando os emails\n",
        "if not validar_email(REMETENTE):\n",
        "    print(f\"Endereço de e-mail do remetente inválido: {REMETENTE}\")\n",
        "    exit(1)\n",
        "\n",
        "DESTINATARIOS_VALIDOS = []\n",
        "for email in DESTINATARIOS:\n",
        "    if validar_email(email):\n",
        "        DESTINATARIOS_VALIDOS.append(email)\n",
        "    else:\n",
        "        print(f\"Endereço de e-mail inválido: {email}\")\n",
        "\n",
        "if not DESTINATARIOS_VALIDOS:\n",
        "    print(\"Nenhum destinatário válido encontrado.\")\n",
        "    exit(1)\n",
        "\n",
        "# Carregando a senha do arquivo 'secret.txt'\n",
        "PASSWORD = carregar_senha()\n",
        "\n",
        "# Enviando os e-mails\n",
        "sender_email = REMETENTE\n",
        "for receiver_email in DESTINATARIOS_VALIDOS:\n",
        "    enviar_email(sender_email, receiver_email, QTD, VIDEO, PASSWORD)\n",
        "\n",
        "logging.info(f\"SYSTEM:: ===== Finalizando programa =====\")"
      ]
    }
  ],
  "metadata": {
    "accelerator": "GPU",
    "colab": {
      "gpuType": "T4",
      "include_colab_link": true,
      "provenance": []
    },
    "kernelspec": {
      "display_name": "Python 3",
      "name": "python3"
    },
    "language_info": {
      "name": "python"
    }
  },
  "nbformat": 4,
  "nbformat_minor": 0
}
