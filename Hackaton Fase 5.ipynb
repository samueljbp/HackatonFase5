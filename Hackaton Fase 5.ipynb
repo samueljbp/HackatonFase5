{
 "cells": [
  {
   "cell_type": "markdown",
   "metadata": {
    "id": "WAB6QY_K1Rc0"
   },
   "source": [
    "# Training"
   ]
  },
  {
   "cell_type": "code",
   "execution_count": null,
   "metadata": {
    "id": "dSEUP-wWwNxi"
   },
   "outputs": [],
   "source": [
    "!pip install ultralytics --quiet"
   ]
  },
  {
   "cell_type": "markdown",
   "metadata": {
    "id": "o6PUP2-Sept0"
   },
   "source": [
    "Conversão das labels"
   ]
  },
  {
   "cell_type": "code",
   "execution_count": null,
   "metadata": {
    "colab": {
     "base_uri": "https://localhost:8080/"
    },
    "executionInfo": {
     "elapsed": 48627,
     "status": "ok",
     "timestamp": 1737251902011,
     "user": {
      "displayName": "Natalia Abrão",
      "userId": "09032436157275086955"
     },
     "user_tz": 180
    },
    "id": "kLshbwW22mh9",
    "outputId": "b16a3690-048e-45d1-aa39-b282325108c8"
   },
   "outputs": [
    {
     "name": "stdout",
     "output_type": "stream",
     "text": [
      "Conversão das labels concluída!\n"
     ]
    }
   ],
   "source": [
    "import os\n",
    "from PIL import Image\n",
    "\n",
    "# Caminho para as pastas de imagens e labels\n",
    "images_path = \"/content/drive/MyDrive/Hackaton/Dataset/val/images\"\n",
    "labels_path = \"/content/drive/MyDrive/Hackaton/Dataset/val/labels\"\n",
    "\n",
    "# ID da classe (0 para \"faca\")\n",
    "class_id = 0\n",
    "\n",
    "# Função para converter as labels\n",
    "def convert_labels(image_width, image_height, x_min, y_min, x_max, y_max):\n",
    "    # Calcular as coordenadas normalizadas\n",
    "    x_center = ((x_min + x_max) / 2) / image_width\n",
    "    y_center = ((y_min + y_max) / 2) / image_height\n",
    "    width = (x_max - x_min) / image_width\n",
    "    height = (y_max - y_min) / image_height\n",
    "    return f\"{class_id} {x_center} {y_center} {width} {height}\"\n",
    "\n",
    "# Percorrer todos os arquivos de labels\n",
    "for label_file in os.listdir(labels_path):\n",
    "    if label_file.endswith(\".txt\"):\n",
    "        label_file_path = os.path.join(labels_path, label_file)\n",
    "\n",
    "        # Ler o conteúdo do arquivo\n",
    "        with open(label_file_path, \"r\") as file:\n",
    "            lines = file.readlines()\n",
    "\n",
    "        # Obter o nome da imagem correspondente\n",
    "        image_file = label_file.replace(\".txt\", \".jpg\")\n",
    "        image_path = os.path.join(images_path, image_file)\n",
    "\n",
    "        # Verificar se a imagem existe\n",
    "        if not os.path.exists(image_path):\n",
    "            print(f\"Imagem faltando para o label: {image_file}\")\n",
    "            continue\n",
    "\n",
    "        # Obter as dimensões da imagem\n",
    "        with Image.open(image_path) as img:\n",
    "            image_width, image_height = img.size\n",
    "\n",
    "        # Escrever as labels no formato YOLO\n",
    "        with open(label_file_path, \"w\") as file:\n",
    "            for line in lines:\n",
    "                # Extrair os valores atuais\n",
    "                parts = line.strip().split()\n",
    "                class_name = parts[0]  # \"Knife\"\n",
    "                x_min = float(parts[1])  # x_min\n",
    "                y_min = float(parts[2])  # y_min\n",
    "                x_max = float(parts[3])  # x_max\n",
    "                y_max = float(parts[4])  # y_max\n",
    "\n",
    "                # Converter para o formato YOLO\n",
    "                yolo_label = convert_labels(image_width, image_height, x_min, y_min, x_max, y_max)\n",
    "\n",
    "                # Escrever a linha no formato YOLO\n",
    "                file.write(yolo_label + \"\\n\")\n",
    "\n",
    "print(\"Conversão das labels concluída!\")"
   ]
  },
  {
   "cell_type": "code",
   "execution_count": null,
   "metadata": {
    "colab": {
     "base_uri": "https://localhost:8080/",
     "height": 1000
    },
    "collapsed": true,
    "executionInfo": {
     "elapsed": 16955497,
     "status": "error",
     "timestamp": 1737386146785,
     "user": {
      "displayName": "Natalia Abrão",
      "userId": "09032436157275086955"
     },
     "user_tz": 180
    },
    "id": "l4EkypA1yeJe",
    "outputId": "2118c711-df65-40a3-a426-637829c7573d"
   },
   "outputs": [],
   "source": [
    "from ultralytics import YOLO\n",
    "import os\n",
    "\n",
    "# 1. Configuração do Dataset\n",
    "# Certifique-se de que o dataset está organizado da seguinte forma:\n",
    "# /dataset/\n",
    "#    ├── train/\n",
    "#    │   ├── images/\n",
    "#    │   └── labels/\n",
    "#    └── val/\n",
    "#        ├── images/\n",
    "#        └── labels/\n",
    "\n",
    "# Caminho para o dataset\n",
    "dataset_path = \"/content/drive/MyDrive/Hackaton/Dataset\"\n",
    "\n",
    "# 2. Criar o arquivo data.yaml\n",
    "data_yaml = f\"\"\"\n",
    "\n",
    "train: {dataset_path}/train/images\n",
    "val: {dataset_path}/val/images\n",
    "\n",
    "# Número de classes\n",
    "nc: 1\n",
    "\n",
    "# Nomes das classes\n",
    "names: ['Knife']\n",
    "\"\"\"\n",
    "\n",
    "# Salvar o arquivo data.yaml\n",
    "with open(\"/content/drive/MyDrive/Hackaton/data.yaml\", \"w\") as file:\n",
    "    file.write(data_yaml)\n",
    "\n",
    "# 3. Verificar a estrutura do dataset\n",
    "def verificar_dataset(dataset_path):\n",
    "    print(\"Verificando estrutura do dataset...\")\n",
    "    pastas_necessarias = [\"/content/drive/MyDrive/Hackaton/Dataset/train/images\", \"/content/drive/MyDrive/Hackaton/Dataset/train/labels\", \"/content/drive/MyDrive/Hackaton/Dataset/val/images\", \"/content/drive/MyDrive/Hackaton/Dataset/val/labels\"]\n",
    "    for pasta in pastas_necessarias:\n",
    "        if not os.path.exists(os.path.join(dataset_path, pasta)):\n",
    "            raise Exception(f\"Pasta faltando: {pasta}\")\n",
    "    print(\"Estrutura do dataset está correta!\")\n",
    "\n",
    "verificar_dataset(dataset_path)\n",
    "\n",
    "# 4. Carregar um modelo pré-treinado\n",
    "# YOLOv8n é a versão \"nano\" (leve e rápida)\n",
    "model = YOLO(\"yolo11m.pt\")\n",
    "\n",
    "# 5. Treinar o modelo\n",
    "print(\"Iniciando o treinamento...\")\n",
    "results = model.train(\n",
    "    data=\"/content/drive/MyDrive/Hackaton/data.yaml\",  # Caminho para o arquivo de configuração\n",
    "    epochs=50,         # Número de épocas\n",
    "    imgsz=640,         # Tamanho da imagem (640x640 é comum)\n",
    "    batch=8,           # Tamanho do batch (ajuste conforme sua GPU)\n",
    "    name=\"yolov11_knife_detection\",  # Nome do experimento\n",
    "    patience=25,       # Parar o treinamento se não houver melhoria em 10 épocas\n",
    "    device=\"cpu\",        # Usar GPU (se disponível). Use \"cpu\" para treinar na CPU.\n",
    ")\n",
    "\n",
    "# 6. Avaliar o modelo\n",
    "print(\"Avaliando o modelo...\")\n",
    "metrics = model.val()  # Avaliar no conjunto de validação\n",
    "print(f\"mAP50-95: {metrics.box.map}\")  # Exibir a métrica mAP\n",
    "\n",
    "# 7. Testar o modelo em uma imagem de exemplo\n",
    "print(\"Testando o modelo em uma imagem de exemplo...\")\n",
    "test_image_path = os.path.join(dataset_path, \"/content/drive/MyDrive/Hackaton/Dataset/val/images/096c39dfb17068cf.jpg\")  # Substitua pelo caminho de uma imagem de teste\n",
    "results = model.predict(test_image_path, save=True, conf=0.5)  # conf = limite de confiança\n",
    "\n",
    "# Exibir os resultados\n",
    "for result in results:\n",
    "    result.show()  # Exibir a imagem com as detecções\n",
    "    result.save()  # Salvar a imagem com as detecções\n",
    "\n",
    "# 8. Exportar o modelo para ONNX (opcional)\n",
    "print(\"Exportando o modelo para ONNX...\")\n",
    "model.export(format=\"onnx\")\n",
    "\n",
    "# 9. Mensagem final\n",
    "print(\"Treinamento concluído!\")\n",
    "print(f\"Resultados salvos em: {os.path.abspath('runs/detect/yolov8_knife_detection')}\")"
   ]
  },
  {
   "cell_type": "markdown",
   "metadata": {
    "id": "yglpt_gL3ImP"
   },
   "source": [
    "# Test\n",
    "Script para Testar o Modelo em Várias Imagens"
   ]
  },
  {
   "cell_type": "code",
   "execution_count": null,
   "metadata": {
    "colab": {
     "base_uri": "https://localhost:8080/",
     "height": 1000
    },
    "executionInfo": {
     "elapsed": 12371,
     "status": "ok",
     "timestamp": 1739403506295,
     "user": {
      "displayName": "Natalia Abrão",
      "userId": "09032436157275086955"
     },
     "user_tz": 180
    },
    "id": "rvyDQ_-G3Cs-",
    "outputId": "b1ed37e0-5d1b-4eb9-897d-a45611469844"
   },
   "outputs": [],
   "source": [
    "import os\n",
    "from ultralytics import YOLO\n",
    "\n",
    "\n",
    "# Carregar o modelo treinado\n",
    "model = YOLO(\"/content/drive/MyDrive/Hackaton/yolov11n/best.pt\")\n",
    "\n",
    "# Caminho para as imagens de validação\n",
    "val_images_path = \"/content/drive/MyDrive/Hackaton/Dataset/train/images\"\n",
    "\n",
    "# Testar o modelo em todas as imagens de validação\n",
    "for image_name in os.listdir(val_images_path):\n",
    "    if image_name.endswith(\".jpg\") or image_name.endswith(\".png\"):\n",
    "        image_path = os.path.join(val_images_path, image_name)\n",
    "        print(f\"Testando o modelo na imagem: {image_name}\")\n",
    "        results = model.predict(image_path, save=True, conf=0.5)  # conf = limite de confiança\n",
    "        for result in results:\n",
    "            result.show()  # Exibir a imagem com as detecções\n",
    "\n",
    "print(\"Teste concluído!\")"
   ]
  },
  {
   "cell_type": "markdown",
   "metadata": {
    "id": "b9qZrdMvehio"
   },
   "source": [
    "Testar o modelo em um video"
   ]
  },
  {
   "cell_type": "code",
   "execution_count": null,
   "metadata": {
    "colab": {
     "base_uri": "https://localhost:8080/"
    },
    "collapsed": true,
    "executionInfo": {
     "elapsed": 220638,
     "status": "ok",
     "timestamp": 1739405094410,
     "user": {
      "displayName": "Natalia Abrão",
      "userId": "09032436157275086955"
     },
     "user_tz": 180
    },
    "id": "ns_mnxLfRIsG",
    "outputId": "1b51654c-8c55-464a-f2b2-95c666d6f15b"
   },
   "outputs": [],
   "source": [
    "from ultralytics import YOLO\n",
    "\n",
    "# 1. Carregar o modelo treinado\n",
    "model = YOLO(\"/content/drive/MyDrive/Hackaton/yolov11n/best.pt\")\n",
    "\n",
    "# 2. Especificar o caminho do vídeo\n",
    "video_path = \"/content/drive/MyDrive/Hackaton/video.mp4\"  # Substitua pelo caminho do seu vídeo\n",
    "\n",
    "target_classes = [43,76]  # Substitua 47 pelo ID correto da classe faca no seu modelo\n",
    "\n",
    "# 3. Processar o vídeo\n",
    "results = model.predict(\n",
    "    source=video_path,  # Caminho do vídeo\n",
    "    conf=0.5,           # Limite de confiança para as detecções\n",
    "    save=True,          # Salvar o vídeo com as detecções\n",
    "    show=True,           # Exibir o vídeo em tempo real (opcional)\n",
    "    classes=target_classes  # Filtrar as detecções por classes específicas\n",
    ")\n",
    "\n",
    "# 4. Mensagem final\n",
    "print(\"Processamento do vídeo concluído!\")\n",
    "print(f\"Vídeo com detecções salvo em: {results[0].save_dir}\")"
   ]
  },
  {
   "cell_type": "markdown",
   "metadata": {
    "id": "sDFJUWo7CrHF"
   },
   "source": [
    "# Detection"
   ]
  },
  {
   "cell_type": "code",
   "execution_count": null,
   "metadata": {
    "colab": {
     "base_uri": "https://localhost:8080/"
    },
    "executionInfo": {
     "elapsed": 114760,
     "status": "ok",
     "timestamp": 1739539590363,
     "user": {
      "displayName": "gama595",
      "userId": "06877354081538289846"
     },
     "user_tz": 180
    },
    "id": "6LZDPce6CrHG",
    "outputId": "ba116020-e57a-4eeb-feda-6534141eb893"
   },
   "outputs": [],
   "source": [
    "!pip install ultralytics --quiet"
   ]
  },
  {
   "cell_type": "code",
   "execution_count": null,
   "metadata": {
    "colab": {
     "base_uri": "https://localhost:8080/"
    },
    "collapsed": true,
    "executionInfo": {
     "elapsed": 203,
     "status": "ok",
     "timestamp": 1739544276584,
     "user": {
      "displayName": "gama595",
      "userId": "06877354081538289846"
     },
     "user_tz": 180
    },
    "id": "D5Bkr__ECrHG",
    "outputId": "5e437995-dea0-4e14-8514-6a998a39c056"
   },
   "outputs": [
    {
     "name": "stderr",
     "output_type": "stream",
     "text": [
      "INFO:root:SYSTEM:: ===== Iniciando programa =====\n"
     ]
    }
   ],
   "source": [
    "import logging\n",
    "# Configuração do Logger\n",
    "# logging.basicConfig(filename='app.log', level=logging.INFO, format='%(asctime)s - %(levelname)s - %(message)s')\n",
    "logger = logging.getLogger()\n",
    "logger.setLevel(logging.DEBUG)\n",
    "\n",
    "logging.info(f\"SYSTEM:: ===== Iniciando programa =====\")"
   ]
  },
  {
   "cell_type": "code",
   "execution_count": null,
   "metadata": {
    "colab": {
     "base_uri": "https://localhost:8080/"
    },
    "collapsed": true,
    "executionInfo": {
     "elapsed": 161268,
     "status": "ok",
     "timestamp": 1739545314478,
     "user": {
      "displayName": "gama595",
      "userId": "06877354081538289846"
     },
     "user_tz": 180
    },
    "id": "-NMk0Yt_CtAx",
    "outputId": "7ef79214-78aa-4709-ebb2-5d1b7ad847ea"
   },
   "outputs": [],
   "source": [
    "import cv2\n",
    "import os\n",
    "from ultralytics import YOLO\n",
    "\n",
    "# 1. Carregar o modelo treinado\n",
    "model = YOLO(\"/content/best.pt\")\n",
    "# model = YOLO(\"/content/yolo11m.pt\")\n",
    "logging.info(f\"DETECTION:: Carregando modelo {model}\")\n",
    "\n",
    "\n",
    "# 2. Especificar o caminho do vídeo\n",
    "video_path = \"/content/video.mp4\"\n",
    "\n",
    "# Caminho para salvar os frames com detecção\n",
    "output_frames_dir = '/content/frames_detectados'\n",
    "os.makedirs(output_frames_dir, exist_ok=True)\n",
    "\n",
    "# 3. Processar o vídeo e contar as detecções\n",
    "cap = cv2.VideoCapture(video_path)\n",
    "\n",
    "total_detections = 0\n",
    "frame_idx = 0\n",
    "saved_frame_idx = 0\n",
    "\n",
    "# target_classes = [43, 76]\n",
    "target_classes = [0]\n",
    "\n",
    "# Flag para garantir que apenas um frame será salvo por detecção\n",
    "detected_objects = set()\n",
    "\n",
    "logging.info(f\"DETECTION:: Iniciando processo deteção do video {os.path.basename(video_path)}\")\n",
    "\n",
    "objetos_detectados = 0\n",
    "\n",
    "while cap.isOpened():\n",
    "    ret, frame = cap.read()\n",
    "    if not ret:\n",
    "        logging.warning(f'Final do vídeo ou erro de leitura: {video_path}')\n",
    "        break\n",
    "\n",
    "    try:\n",
    "        # Detecção de objetos com YOLO\n",
    "        results = model(frame)\n",
    "\n",
    "        for result in results:\n",
    "            boxes = result.boxes.cpu().numpy()\n",
    "            for box in boxes:\n",
    "                x1, y1, x2, y2 = box.xyxy[0]\n",
    "                conf = box.conf[0]\n",
    "                cls = int(box.cls[0])\n",
    "                # if conf > 0.7:  # Confiança mínima\n",
    "                label = model.names[cls]\n",
    "                # logging.warning(f\"if1\")\n",
    "                if label in ['Knife', 'scissors', 'machete', 'cutter']:\n",
    "                    # Desenhar caixa delimitadora\n",
    "                    cv2.rectangle(frame, (int(x1), int(y1)), (int(x2), int(y2)), (0, 0, 255), 2)\n",
    "                    cv2.putText(frame, f'{label} {conf:.2f}', (int(x1), int(y1) - 10), cv2.FONT_HERSHEY_SIMPLEX, 0.9, (0, 0, 255), 2)\n",
    "                    frame_filename = os.path.join(output_frames_dir, f\"imagem_{objetos_detectados}.jpg\")\n",
    "                    logging.warning(f\"DETECTION:: Nova faca encontrada, salvando em {frame_filename}\")\n",
    "                    cv2.imwrite(frame_filename, frame)\n",
    "\n",
    "                    objetos_detectados += 1\n",
    "                    logging.info(f'{label} detectado com {conf*100:.1f}% de confiança.')\n",
    "\n",
    "    except Exception as e:\n",
    "        logging.error(f'Erro no processamento do frame: {e}')\n",
    "\n",
    "    # cv2.imshow('VisionGuard - Detecção de Objetos Cortantes (YOLO)', frame)\n",
    "\n",
    "    if cv2.waitKey(1) & 0xFF == ord('q'):\n",
    "        logging.info('Análise interrompida pelo usuário.')\n",
    "        break\n",
    "\n",
    "cap.release()"
   ]
  },
  {
   "cell_type": "code",
   "execution_count": null,
   "metadata": {
    "colab": {
     "base_uri": "https://localhost:8080/"
    },
    "collapsed": true,
    "executionInfo": {
     "elapsed": 3,
     "status": "ok",
     "timestamp": 1739545315044,
     "user": {
      "displayName": "gama595",
      "userId": "06877354081538289846"
     },
     "user_tz": 180
    },
    "id": "WtBcCrmLCrHG",
    "outputId": "e32c01fd-5bc5-451c-abe0-a1e288399492"
   },
   "outputs": [
    {
     "name": "stderr",
     "output_type": "stream",
     "text": [
      "INFO:root:DETECTION:: Fim do processo de detecção\n",
      "INFO:root:DETECTION:: Total de detecções: 548\n"
     ]
    }
   ],
   "source": [
    "# Mensagem final\n",
    "# print(f\"Processamento do vídeo concluído!\")\n",
    "logging.info(f\"DETECTION:: Fim do processo de detecção\")\n",
    "# print(f\"Total de detecções: {total_detections}\")\n",
    "logging.info(f\"DETECTION:: Total de detecções: {objetos_detectados}\")\n",
    "# print(f\"Frames salvos em: {output_frames_dir}\")"
   ]
  },
  {
   "cell_type": "markdown",
   "metadata": {
    "id": "MHMNdVilCrHG"
   },
   "source": [
    "# Mail"
   ]
  },
  {
   "cell_type": "code",
   "execution_count": null,
   "metadata": {
    "id": "Boh04PqrCrHG"
   },
   "outputs": [],
   "source": [
    "import random\n",
    "\n",
    "# Definindo variáveis principais\n",
    "# IMAGENS = [\"imagem1\", \"imagem2\"]\n",
    "IMAGENS_DIR = output_frames_dir\n",
    "IMAGENS = [f\"imagem_{i+1}\" for i in range(objetos_detectados)]\n",
    "random.shuffle(IMAGENS)\n",
    "\n",
    "QTD = len(IMAGENS)\n",
    "VIDEO = os.path.basename(video_path)\n",
    "DESTINATARIOS = [\"email1@gmail.com\", \"email2@gmail.com\"]\n",
    "REMETENTE = \"fakevisionguard@gmail.com\""
   ]
  },
  {
   "cell_type": "code",
   "execution_count": null,
   "metadata": {
    "id": "_UNijG8_CrHG"
   },
   "outputs": [],
   "source": [
    "import smtplib\n",
    "import ssl\n",
    "\n",
    "from email.mime.text import MIMEText\n",
    "from email.mime.image import MIMEImage\n",
    "from email.mime.multipart import MIMEMultipart\n",
    "from email.utils import parseaddr\n",
    "from sys import exit"
   ]
  },
  {
   "cell_type": "code",
   "execution_count": null,
   "metadata": {
    "id": "33o03VTjCrHG"
   },
   "outputs": [],
   "source": [
    "# Função para validar email\n",
    "def validar_email(email):\n",
    "    nome, endereco = parseaddr(email)\n",
    "    if '@' in endereco and '.' in endereco.split('@')[-1]:\n",
    "        return True\n",
    "    return False\n",
    "\n",
    "# Função para carregar a senha do arquivo 'secret.txt'\n",
    "def carregar_senha():\n",
    "    # try:\n",
    "    #     with open(\"secret.txt\", \"r\") as file:\n",
    "    #         password = file.read().strip()\n",
    "    #         if not password:\n",
    "    #             logging.critical(\"MAIL:: Senha não encontrada\")\n",
    "    #             exit(1)\n",
    "    #         return password\n",
    "    # except FileNotFoundError:\n",
    "    #     logging.critical(\"MAIL:: O arquivo 'secret.txt' não foi encontrado.\")\n",
    "    #     exit(1)\n",
    "    return \"wixb qyrv qvkc qqwh\"\n",
    "\n",
    "# Função para enviar e-mail\n",
    "def enviar_email(sender_email, receiver_email, qtd, video, password):\n",
    "    # Criando parametros da mensagem\n",
    "    # message = MIMEMultipart(\"alternative\") # Para enviar apenas texto\n",
    "    message = MIMEMultipart(\"related\") # Para enviar imagens\n",
    "    message[\"Subject\"] = \"Alerta Segurança\"\n",
    "    message[\"From\"] = sender_email\n",
    "    message[\"To\"] = receiver_email\n",
    "\n",
    "    # Tratamento de exceção para qtd e video\n",
    "    if not qtd or not video:\n",
    "        logging.warning(\"MAIL:: Informações faltando. QTD ou VIDEO não foi fornecido.\")\n",
    "        qtd = \"desconhecido\"\n",
    "        video = \"desconhecido\"\n",
    "\n",
    "    # Criando corpo do email com Imagens\n",
    "    imagens_html = \"\"\n",
    "    for i in range(min(len(IMAGENS), 5)):\n",
    "        imagens_html += f'<img src=\"cid:{IMAGENS[i]}\" alt=\"Imagem de Alerta\" width=\"250\" height=\"250\">'\n",
    "\n",
    "\n",
    "    # Criando o corpo do email em HTML\n",
    "    html = f\"\"\"\n",
    "    <html>\n",
    "        <body style=\"font-family: Arial, sans-serif; background-color: #f4f4f4; color: #333; padding: 20px;\">\n",
    "            <table role=\"presentation\" style=\"width: 100%; border: 1px solid #ddd; background-color: #fff; padding: 15px;\">\n",
    "                <tr>\n",
    "                    <td>\n",
    "                        <h2 style=\"color: #d9534f;\">Alerta de Segurança</h2>\n",
    "                        <p>Foram detectados <strong>{qtd}</strong> frames com objetos perigosos durante o escaneamento do vídeo <strong>{video}</strong>.</p>\n",
    "                        <h3>Amostra de imagens encontradas:</h3>\n",
    "                        {imagens_html}\n",
    "                        <p><a href=\"#\" style=\"color: #007bff; text-decoration: none;\">Acesse a analise completa</a></p>\n",
    "                        <br />\n",
    "                        <footer style=\"font-size: 0.9em; color: #777;\">\n",
    "                            <b>Vision Guard Seguradora LTDA.</b><br />\n",
    "                            Todos os direitos reservados.\n",
    "                        </footer>\n",
    "                    </td>\n",
    "                </tr>\n",
    "            </table>\n",
    "        </body>\n",
    "    </html>\n",
    "    \"\"\"\n",
    "\n",
    "    # Convertendo o HTML para objetos MIMEText e acoplando a mensagem\n",
    "    body = MIMEText(html, \"html\")\n",
    "    message.attach(body)\n",
    "    logging.info(\"MAIL:: Corpo do email criado com sucesso\")\n",
    "\n",
    "\n",
    "    for i, img_id in enumerate(IMAGENS[:5]):\n",
    "        img_path = os.path.join(output_frames_dir, f\"{img_id}.jpg\")\n",
    "        with open(img_path, \"rb\") as img_file:\n",
    "            img = MIMEImage(img_file.read())\n",
    "            img.add_header('Content-ID', f'<{img_id}>')\n",
    "            message.attach(img)\n",
    "            logging.info(f\"MAIL:: Imagem {img_id} adicionada ao e-mail\")\n",
    "\n",
    "\n",
    "\n",
    "    # Criando uma conexão com o servidor e enviando o email\n",
    "    try:\n",
    "        context = ssl.create_default_context()\n",
    "        with smtplib.SMTP_SSL(\"smtp.gmail.com\", 465, context=context) as server:\n",
    "            logging.info(\"MAIL:: Conectando ao servido SMTP\")\n",
    "            server.login(sender_email, password)\n",
    "            logging.info(\"MAIL:: Logado no servidor com sucesso\")\n",
    "            server.sendmail(sender_email, receiver_email, message.as_string())\n",
    "            logging.info(f\"MAIL:: Email enviado com sucesso para {receiver_email}\")\n",
    "    except smtplib.SMTPException as e:\n",
    "        logging.error(f\"MAIL:: Erro ao enviar o email: {str(e)}\")\n",
    "    except Exception as e:\n",
    "        logging.critical(f\"MAIL:: Erro inesperado: {str(e)}\")"
   ]
  },
  {
   "cell_type": "code",
   "execution_count": null,
   "metadata": {
    "colab": {
     "base_uri": "https://localhost:8080/"
    },
    "executionInfo": {
     "elapsed": 3540,
     "status": "ok",
     "timestamp": 1739545449555,
     "user": {
      "displayName": "gama595",
      "userId": "06877354081538289846"
     },
     "user_tz": 180
    },
    "id": "ijoJ3nLUCrHH",
    "outputId": "a82746e1-3832-488b-8a00-d227e207c699"
   },
   "outputs": [],
   "source": [
    "# Validando os emails\n",
    "if not validar_email(REMETENTE):\n",
    "    print(f\"Endereço de e-mail do remetente inválido: {REMETENTE}\")\n",
    "    exit(1)\n",
    "\n",
    "DESTINATARIOS_VALIDOS = []\n",
    "for email in DESTINATARIOS:\n",
    "    if validar_email(email):\n",
    "        DESTINATARIOS_VALIDOS.append(email)\n",
    "    else:\n",
    "        print(f\"Endereço de e-mail inválido: {email}\")\n",
    "\n",
    "if not DESTINATARIOS_VALIDOS:\n",
    "    print(\"Nenhum destinatário válido encontrado.\")\n",
    "    exit(1)\n",
    "\n",
    "# Carregando a senha do arquivo 'secret.txt'\n",
    "PASSWORD = carregar_senha()\n",
    "\n",
    "# Enviando os e-mails\n",
    "sender_email = REMETENTE\n",
    "for receiver_email in DESTINATARIOS_VALIDOS:\n",
    "    enviar_email(sender_email, receiver_email, QTD, VIDEO, PASSWORD)\n",
    "\n",
    "logging.info(f\"SYSTEM:: ===== Finalizando programa =====\")"
   ]
  }
 ],
 "metadata": {
  "colab": {
   "provenance": [
    {
     "file_id": "1dHzypl5TfYvoEA3_KD4cJiwOdjKQsrQw",
     "timestamp": 1739550780344
    },
    {
     "file_id": "1am26ZIaBbVDjPbcKWtg6nk6figuNENwE",
     "timestamp": 1739542922069
    }
   ]
  },
  "kernelspec": {
   "display_name": "Python 3",
   "name": "python3"
  },
  "language_info": {
   "name": "python"
  }
 },
 "nbformat": 4,
 "nbformat_minor": 0
}
