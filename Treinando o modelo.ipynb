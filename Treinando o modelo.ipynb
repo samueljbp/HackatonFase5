{
 "cells": [
  {
   "cell_type": "code",
   "execution_count": null,
   "metadata": {
    "colab": {
     "base_uri": "https://localhost:8080/"
    },
    "executionInfo": {
     "elapsed": 100694,
     "status": "ok",
     "timestamp": 1739406188592,
     "user": {
      "displayName": "Samuel João Barbosa Pinto",
      "userId": "09959068133831460133"
     },
     "user_tz": 180
    },
    "id": "dSEUP-wWwNxi",
    "outputId": "6680fa85-da48-4d92-b57d-3413345dc5db"
   },
   "outputs": [],
   "source": [
    "!pip install ultralytics --quiet"
   ]
  },
  {
   "cell_type": "markdown",
   "metadata": {
    "id": "o6PUP2-Sept0"
   },
   "source": [
    "Conversão das labels"
   ]
  },
  {
   "cell_type": "code",
   "execution_count": null,
   "metadata": {
    "colab": {
     "base_uri": "https://localhost:8080/"
    },
    "id": "kLshbwW22mh9",
    "outputId": "b16a3690-048e-45d1-aa39-b282325108c8"
   },
   "outputs": [
    {
     "name": "stdout",
     "output_type": "stream",
     "text": [
      "Conversão das labels concluída!\n"
     ]
    }
   ],
   "source": [
    "import os\n",
    "from PIL import Image\n",
    "\n",
    "# Caminho para as pastas de imagens e labels\n",
    "images_path = \"/content/drive/MyDrive/Hackaton/Dataset/val/images\"\n",
    "labels_path = \"/content/drive/MyDrive/Hackaton/Dataset/val/labels\"\n",
    "\n",
    "# ID da classe (0 para \"faca\")\n",
    "class_id = 0\n",
    "\n",
    "# Função para converter as labels\n",
    "def convert_labels(image_width, image_height, x_min, y_min, x_max, y_max):\n",
    "    # Calcular as coordenadas normalizadas\n",
    "    x_center = ((x_min + x_max) / 2) / image_width\n",
    "    y_center = ((y_min + y_max) / 2) / image_height\n",
    "    width = (x_max - x_min) / image_width\n",
    "    height = (y_max - y_min) / image_height\n",
    "    return f\"{class_id} {x_center} {y_center} {width} {height}\"\n",
    "\n",
    "# Percorrer todos os arquivos de labels\n",
    "for label_file in os.listdir(labels_path):\n",
    "    if label_file.endswith(\".txt\"):\n",
    "        label_file_path = os.path.join(labels_path, label_file)\n",
    "\n",
    "        # Ler o conteúdo do arquivo\n",
    "        with open(label_file_path, \"r\") as file:\n",
    "            lines = file.readlines()\n",
    "\n",
    "        # Obter o nome da imagem correspondente\n",
    "        image_file = label_file.replace(\".txt\", \".jpg\")\n",
    "        image_path = os.path.join(images_path, image_file)\n",
    "\n",
    "        # Verificar se a imagem existe\n",
    "        if not os.path.exists(image_path):\n",
    "            print(f\"Imagem faltando para o label: {image_file}\")\n",
    "            continue\n",
    "\n",
    "        # Obter as dimensões da imagem\n",
    "        with Image.open(image_path) as img:\n",
    "            image_width, image_height = img.size\n",
    "\n",
    "        # Escrever as labels no formato YOLO\n",
    "        with open(label_file_path, \"w\") as file:\n",
    "            for line in lines:\n",
    "                # Extrair os valores atuais\n",
    "                parts = line.strip().split()\n",
    "                class_name = parts[0]  # \"Knife\"\n",
    "                x_min = float(parts[1])  # x_min\n",
    "                y_min = float(parts[2])  # y_min\n",
    "                x_max = float(parts[3])  # x_max\n",
    "                y_max = float(parts[4])  # y_max\n",
    "\n",
    "                # Converter para o formato YOLO\n",
    "                yolo_label = convert_labels(image_width, image_height, x_min, y_min, x_max, y_max)\n",
    "\n",
    "                # Escrever a linha no formato YOLO\n",
    "                file.write(yolo_label + \"\\n\")\n",
    "\n",
    "print(\"Conversão das labels concluída!\")"
   ]
  },
  {
   "cell_type": "code",
   "execution_count": null,
   "metadata": {
    "colab": {
     "base_uri": "https://localhost:8080/",
     "height": 1000
    },
    "collapsed": true,
    "id": "l4EkypA1yeJe",
    "outputId": "2118c711-df65-40a3-a426-637829c7573d"
   },
   "outputs": [],
   "source": [
    "from ultralytics import YOLO\n",
    "import os\n",
    "\n",
    "# 1. Configuração do Dataset\n",
    "# Certifique-se de que o dataset está organizado da seguinte forma:\n",
    "# /dataset/\n",
    "#    ├── train/\n",
    "#    │   ├── images/\n",
    "#    │   └── labels/\n",
    "#    └── val/\n",
    "#        ├── images/\n",
    "#        └── labels/\n",
    "\n",
    "# Caminho para o dataset\n",
    "dataset_path = \"/content/drive/MyDrive/Hackaton/Dataset\"\n",
    "\n",
    "# 2. Criar o arquivo data.yaml\n",
    "data_yaml = f\"\"\"\n",
    "\n",
    "train: {dataset_path}/train/images\n",
    "val: {dataset_path}/val/images\n",
    "\n",
    "# Número de classes\n",
    "nc: 1\n",
    "\n",
    "# Nomes das classes\n",
    "names: ['Knife']\n",
    "\"\"\"\n",
    "\n",
    "# Salvar o arquivo data.yaml\n",
    "with open(\"/content/drive/MyDrive/Hackaton/data.yaml\", \"w\") as file:\n",
    "    file.write(data_yaml)\n",
    "\n",
    "# 3. Verificar a estrutura do dataset\n",
    "def verificar_dataset(dataset_path):\n",
    "    print(\"Verificando estrutura do dataset...\")\n",
    "    pastas_necessarias = [\"/content/drive/MyDrive/Hackaton/Dataset/train/images\", \"/content/drive/MyDrive/Hackaton/Dataset/train/labels\", \"/content/drive/MyDrive/Hackaton/Dataset/val/images\", \"/content/drive/MyDrive/Hackaton/Dataset/val/labels\"]\n",
    "    for pasta in pastas_necessarias:\n",
    "        if not os.path.exists(os.path.join(dataset_path, pasta)):\n",
    "            raise Exception(f\"Pasta faltando: {pasta}\")\n",
    "    print(\"Estrutura do dataset está correta!\")\n",
    "\n",
    "verificar_dataset(dataset_path)\n",
    "\n",
    "# 4. Carregar um modelo pré-treinado\n",
    "# YOLOv8n é a versão \"nano\" (leve e rápida)\n",
    "model = YOLO(\"yolo11m.pt\")\n",
    "\n",
    "# 5. Treinar o modelo\n",
    "print(\"Iniciando o treinamento...\")\n",
    "results = model.train(\n",
    "    data=\"/content/drive/MyDrive/Hackaton/data.yaml\",  # Caminho para o arquivo de configuração\n",
    "    epochs=50,         # Número de épocas\n",
    "    imgsz=640,         # Tamanho da imagem (640x640 é comum)\n",
    "    batch=8,           # Tamanho do batch (ajuste conforme sua GPU)\n",
    "    name=\"yolov11_knife_detection\",  # Nome do experimento\n",
    "    patience=25,       # Parar o treinamento se não houver melhoria em 10 épocas\n",
    "    device=\"cpu\",        # Usar GPU (se disponível). Use \"cpu\" para treinar na CPU.\n",
    ")\n",
    "\n",
    "# 6. Avaliar o modelo\n",
    "print(\"Avaliando o modelo...\")\n",
    "metrics = model.val()  # Avaliar no conjunto de validação\n",
    "print(f\"mAP50-95: {metrics.box.map}\")  # Exibir a métrica mAP\n",
    "\n",
    "# 7. Testar o modelo em uma imagem de exemplo\n",
    "print(\"Testando o modelo em uma imagem de exemplo...\")\n",
    "test_image_path = os.path.join(dataset_path, \"/content/drive/MyDrive/Hackaton/Dataset/val/images/096c39dfb17068cf.jpg\")  # Substitua pelo caminho de uma imagem de teste\n",
    "results = model.predict(test_image_path, save=True, conf=0.5)  # conf = limite de confiança\n",
    "\n",
    "# Exibir os resultados\n",
    "for result in results:\n",
    "    result.show()  # Exibir a imagem com as detecções\n",
    "    result.save()  # Salvar a imagem com as detecções\n",
    "\n",
    "# 8. Exportar o modelo para ONNX (opcional)\n",
    "print(\"Exportando o modelo para ONNX...\")\n",
    "model.export(format=\"onnx\")\n",
    "\n",
    "# 9. Mensagem final\n",
    "print(\"Treinamento concluído!\")\n",
    "print(f\"Resultados salvos em: {os.path.abspath('runs/detect/yolov8_knife_detection')}\")"
   ]
  },
  {
   "cell_type": "markdown",
   "metadata": {
    "id": "yglpt_gL3ImP"
   },
   "source": [
    "Script para Testar o Modelo em Várias Imagens"
   ]
  },
  {
   "cell_type": "code",
   "execution_count": null,
   "metadata": {
    "colab": {
     "base_uri": "https://localhost:8080/"
    },
    "executionInfo": {
     "elapsed": 19827,
     "status": "ok",
     "timestamp": 1739406249025,
     "user": {
      "displayName": "Samuel João Barbosa Pinto",
      "userId": "09959068133831460133"
     },
     "user_tz": 180
    },
    "id": "cqHZL6usqpet",
    "outputId": "b715fd30-e3f6-4f3c-ec03-d79f4b7ccbd6"
   },
   "outputs": [
    {
     "name": "stdout",
     "output_type": "stream",
     "text": [
      "Mounted at /content/drive\n"
     ]
    }
   ],
   "source": [
    "from google.colab import drive\n",
    "drive.mount('/content/drive')"
   ]
  },
  {
   "cell_type": "code",
   "execution_count": null,
   "metadata": {
    "colab": {
     "base_uri": "https://localhost:8080/",
     "height": 1000
    },
    "collapsed": true,
    "id": "rvyDQ_-G3Cs-",
    "outputId": "15a7a81a-ff83-489d-e5a8-c5ee1515974d"
   },
   "outputs": [],
   "source": [
    "import os\n",
    "from ultralytics import YOLO\n",
    "\n",
    "# Carregar o modelo treinado\n",
    "model = YOLO(\"/content/drive/MyDrive/Hackaton/yolov11n/yolo11m.pt\")\n",
    "\n",
    "# Caminho para as imagens de validação\n",
    "val_images_path = \"/content/drive/MyDrive/Hackaton/Dataset/train/images\"\n",
    "\n",
    "# Testar o modelo em todas as imagens de validação\n",
    "for image_name in os.listdir(val_images_path):\n",
    "    if image_name.endswith(\".jpg\") or image_name.endswith(\".png\"):\n",
    "        image_path = os.path.join(val_images_path, image_name)\n",
    "        print(f\"Testando o modelo na imagem: {image_name}\")\n",
    "        results = model.predict(image_path, save=True, conf=0.5)  # conf = limite de confiança\n",
    "        for result in results:\n",
    "            result.show()  # Exibir a imagem com as detecções\n",
    "\n",
    "print(\"Teste concluído!\")"
   ]
  },
  {
   "cell_type": "markdown",
   "metadata": {
    "id": "b9qZrdMvehio"
   },
   "source": [
    "Testar o modelo em um video"
   ]
  },
  {
   "cell_type": "code",
   "execution_count": null,
   "metadata": {
    "id": "ns_mnxLfRIsG"
   },
   "outputs": [],
   "source": [
    "from ultralytics import YOLO\n",
    "\n",
    "# 1. Carregar o modelo treinado\n",
    "model = YOLO(\"/content/drive/MyDrive/Hackaton/yolov11n/yolo11m.pt\")\n",
    "\n",
    "# 2. Especificar o caminho do vídeo\n",
    "video_path = \"/content/drive/MyDrive/Hackaton/video.mp4\"  # Substitua pelo caminho do seu vídeo\n",
    "\n",
    "# target_classes = [43,76]  # Substitua 47 pelo ID correto da classe faca no seu modelo\n",
    "\n",
    "# 3. Processar o vídeo\n",
    "results = model.predict(\n",
    "    source=video_path,  # Caminho do vídeo\n",
    "    conf=0.5,           # Limite de confiança para as detecções\n",
    "    save=True,          # Salvar o vídeo com as detecções\n",
    "    show=True,           # Exibir o vídeo em tempo real (opcional)\n",
    "    #classes=target_classes  # Filtrar as detecções por classes específicas\n",
    ")\n",
    "\n",
    "# 4. Mensagem final\n",
    "print(\"Processamento do vídeo concluído!\")\n",
    "print(f\"Vídeo com detecções salvo em: {results[0].save_dir}\")"
   ]
  }
 ],
 "metadata": {
  "accelerator": "GPU",
  "colab": {
   "gpuType": "T4",
   "provenance": []
  },
  "kernelspec": {
   "display_name": "Python 3",
   "name": "python3"
  },
  "language_info": {
   "name": "python"
  }
 },
 "nbformat": 4,
 "nbformat_minor": 0
}
